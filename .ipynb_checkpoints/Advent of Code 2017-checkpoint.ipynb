{
 "cells": [
  {
   "cell_type": "markdown",
   "metadata": {},
   "source": [
    "# Advent of Code 2017"
   ]
  },
  {
   "cell_type": "markdown",
   "metadata": {},
   "source": [
    "Winny de Jong"
   ]
  },
  {
   "cell_type": "markdown",
   "metadata": {},
   "source": [
    "In order to become a better programmer, I'm making the Advent of Code 2017 in Spring 2018. For future reference, I've included a link to the puzzle description, and import needed libraries separately for each day. \n",
    "\n",
    "When visiting the puzzle, it only shows you part one. You're supposed to solve that first, before moving on to part two. Below I'll add my solutions for part one and two. "
   ]
  },
  {
   "cell_type": "markdown",
   "metadata": {
    "heading_collapsed": true
   },
   "source": [
    "# Day 01 - Inverse Captcha"
   ]
  },
  {
   "cell_type": "markdown",
   "metadata": {
    "hidden": true
   },
   "source": [
    "## Part 1"
   ]
  },
  {
   "cell_type": "markdown",
   "metadata": {
    "hidden": true
   },
   "source": [
    "[Puzzle description](https://adventofcode.com/2017/day/1)"
   ]
  },
  {
   "cell_type": "markdown",
   "metadata": {
    "hidden": true
   },
   "source": [
    "> Review a sequence of digits (your puzzle input) and find the sum of all digits that match the next digit in the list. The list is circular, so the digit after the last digit is the first digit in the list.\n",
    "\n",
    "> For example:\n",
    "\n",
    "> 1122 produces a sum of 3 (1 + 2) because the first digit (1) matches the second digit and the third digit (2) matches the fourth digit.\n",
    "1111 produces 4 because each digit (all 1) matches the next.\n",
    "1234 produces 0 because no digit matches the next.\n",
    "> 91212129 produces 9 because the only digit that matches the next one is the last digit, 9."
   ]
  },
  {
   "cell_type": "code",
   "execution_count": null,
   "metadata": {
    "ExecuteTime": {
     "end_time": "2018-04-08T01:20:58.565186Z",
     "start_time": "2018-04-08T01:20:58.558366Z"
    },
    "collapsed": true,
    "hidden": true
   },
   "outputs": [],
   "source": [
    "testInput1 = 1122\n",
    "testInput2 = 1111\n",
    "testInput3 = 1234\n",
    "testInput4 = 1234\n",
    "testInput5 = 91212129\n",
    "\n",
    "puzzleInput = 428122498997587283996116951397957933569136949848379417125362532269869461185743113733992331379856446362482129646556286611543756564275715359874924898113424472782974789464348626278532936228881786273586278886575828239366794429223317476722337424399239986153675275924113322561873814364451339186918813451685263192891627186769818128715595715444565444581514677521874935942913547121751851631373316122491471564697731298951989511917272684335463436218283261962158671266625299188764589814518793576375629163896349665312991285776595142146261792244475721782941364787968924537841698538288459355159783985638187254653851864874544584878999193242641611859756728634623853475638478923744471563845635468173824196684361934269459459124269196811512927442662761563824323621758785866391424778683599179447845595931928589255935953295111937431266815352781399967295389339626178664148415561175386725992469782888757942558362117938629369129439717427474416851628121191639355646394276451847131182652486561415942815818785884559193483878139351841633366398788657844396925423217662517356486193821341454889283266691224778723833397914224396722559593959125317175899594685524852419495793389481831354787287452367145661829287518771631939314683137722493531318181315216342994141683484111969476952946378314883421677952397588613562958741328987734565492378977396431481215983656814486518865642645612413945129485464979535991675776338786758997128124651311153182816188924935186361813797251997643992686294724699281969473142721116432968216434977684138184481963845141486793996476793954226225885432422654394439882842163295458549755137247614338991879966665925466545111899714943716571113326479432925939227996799951279485722836754457737668191845914566732285928453781818792236447816127492445993945894435692799839217467253986218213131249786833333936332257795191937942688668182629489191693154184177398186462481316834678733713614889439352976144726162214648922159719979143735815478633912633185334529484779322818611438194522292278787653763328944421516569181178517915745625295158611636365253948455727653672922299582352766484"
   ]
  },
  {
   "cell_type": "code",
   "execution_count": null,
   "metadata": {
    "ExecuteTime": {
     "end_time": "2018-04-08T01:20:58.582065Z",
     "start_time": "2018-04-08T01:20:58.567259Z"
    },
    "collapsed": true,
    "hidden": true
   },
   "outputs": [],
   "source": [
    "# make string of puzzleInput, otherwise creating a tuple is not possible\n",
    "string = str(puzzleInput)\n",
    "\n",
    "# create tuple of all digits in puzzleInput\n",
    "puzzleTuple = tuple(string)\n",
    "\n",
    "# get length of puzzleTuple\n",
    "length = len(puzzleTuple)\n",
    "\n",
    "# sum ints from puzzleTuple,\n",
    "sum(int(puzzleTuple[i])\n",
    "    # if i in range of the length of puzzleTuple\n",
    "    for i in range(length)\n",
    "        # matches the former digit in the list\n",
    "        if puzzleTuple[i] == puzzleTuple[i - 1])"
   ]
  },
  {
   "cell_type": "markdown",
   "metadata": {
    "hidden": true
   },
   "source": [
    "## Part 2"
   ]
  },
  {
   "cell_type": "markdown",
   "metadata": {
    "hidden": true
   },
   "source": [
    "> Instead of considering the next digit, it wants you to consider the digit halfway around the circular list. That is, if your list contains 10 items, only include a digit in your sum if the digit 10/2 = 5 steps forward matches it. Fortunately, your list has an even number of elements.\n",
    "\n",
    "> For example:\n",
    "\n",
    "> 1212 produces 6: the list contains 4 items, and all four digits match the digit 2 items ahead.\n",
    "> 1221 produces 0, because every comparison is between a 1 and a 2.\n",
    "> 123425 produces 4, because both 2s match each other, but no other digit has a match.\n",
    "> 123123 produces 12.\n",
    "> 12131415 produces 4."
   ]
  },
  {
   "cell_type": "code",
   "execution_count": null,
   "metadata": {
    "ExecuteTime": {
     "end_time": "2018-04-08T01:20:58.591519Z",
     "start_time": "2018-04-08T01:20:58.584166Z"
    },
    "collapsed": true,
    "hidden": true
   },
   "outputs": [],
   "source": [
    "testInput1 = 1212\n",
    "testInput2 = 1221\n",
    "testInput3 = 123425\n",
    "testInput4 = 123123\n",
    "testInput5 = 12131415\n",
    "\n",
    "puzzleInput = 428122498997587283996116951397957933569136949848379417125362532269869461185743113733992331379856446362482129646556286611543756564275715359874924898113424472782974789464348626278532936228881786273586278886575828239366794429223317476722337424399239986153675275924113322561873814364451339186918813451685263192891627186769818128715595715444565444581514677521874935942913547121751851631373316122491471564697731298951989511917272684335463436218283261962158671266625299188764589814518793576375629163896349665312991285776595142146261792244475721782941364787968924537841698538288459355159783985638187254653851864874544584878999193242641611859756728634623853475638478923744471563845635468173824196684361934269459459124269196811512927442662761563824323621758785866391424778683599179447845595931928589255935953295111937431266815352781399967295389339626178664148415561175386725992469782888757942558362117938629369129439717427474416851628121191639355646394276451847131182652486561415942815818785884559193483878139351841633366398788657844396925423217662517356486193821341454889283266691224778723833397914224396722559593959125317175899594685524852419495793389481831354787287452367145661829287518771631939314683137722493531318181315216342994141683484111969476952946378314883421677952397588613562958741328987734565492378977396431481215983656814486518865642645612413945129485464979535991675776338786758997128124651311153182816188924935186361813797251997643992686294724699281969473142721116432968216434977684138184481963845141486793996476793954226225885432422654394439882842163295458549755137247614338991879966665925466545111899714943716571113326479432925939227996799951279485722836754457737668191845914566732285928453781818792236447816127492445993945894435692799839217467253986218213131249786833333936332257795191937942688668182629489191693154184177398186462481316834678733713614889439352976144726162214648922159719979143735815478633912633185334529484779322818611438194522292278787653763328944421516569181178517915745625295158611636365253948455727653672922299582352766484"
   ]
  },
  {
   "cell_type": "code",
   "execution_count": null,
   "metadata": {
    "ExecuteTime": {
     "end_time": "2018-04-08T01:20:58.604074Z",
     "start_time": "2018-04-08T01:20:58.593746Z"
    },
    "collapsed": true,
    "hidden": true
   },
   "outputs": [],
   "source": [
    "# make string of puzzleInput, otherwise creating a tuple is not possible\n",
    "string = str(puzzleInput)\n",
    "\n",
    "# create tuple of all digits in puzzleInput\n",
    "puzzleTuple = tuple(string)\n",
    "\n",
    "# get half of lenght of puzzleTuple\n",
    "length = len(puzzleTuple)\n",
    "half = int(length)/2\n",
    "\n",
    "# sum ints from puzzleTuple,\n",
    "sum(int(puzzleTuple[i])\n",
    "    # if i in range of the length of puzzleTuple\n",
    "    for i in range(length)\n",
    "        # matches the digit halfway back in the list\n",
    "        if puzzleTuple[i] == puzzleTuple[i - int(half)])"
   ]
  },
  {
   "cell_type": "markdown",
   "metadata": {
    "heading_collapsed": true
   },
   "source": [
    "# Day 02 - Corruption Checksum"
   ]
  },
  {
   "cell_type": "markdown",
   "metadata": {
    "hidden": true
   },
   "source": [
    "## Part 1"
   ]
  },
  {
   "cell_type": "markdown",
   "metadata": {
    "hidden": true
   },
   "source": [
    "[Puzzle description]()"
   ]
  },
  {
   "cell_type": "markdown",
   "metadata": {
    "hidden": true
   },
   "source": [
    "> For each row, determine the difference between the largest value and the smallest value; the checksum is the sum of all of these differences.\n",
    "\n",
    "> For example, given the following spreadsheet:\n",
    "\n",
    "> 5 1 9 5  \n",
    "> 7 5 3  \n",
    "2 4 6 8  \n",
    "The first row's largest and smallest values are 9 and 1, and their difference is 8.\n",
    "The second row's largest and smallest values are 7 and 3, and their difference is 4.\n",
    "The third row's difference is 6.\n",
    "In this example, the spreadsheet's checksum would be 8 + 4 + 6 = 18.\n",
    "\n",
    "> What is the checksum for the spreadsheet in your puzzle input?"
   ]
  },
  {
   "cell_type": "code",
   "execution_count": null,
   "metadata": {
    "ExecuteTime": {
     "end_time": "2018-04-08T01:20:58.613093Z",
     "start_time": "2018-04-08T01:20:58.610101Z"
    },
    "collapsed": true,
    "hidden": true
   },
   "outputs": [],
   "source": [
    "import re"
   ]
  },
  {
   "cell_type": "code",
   "execution_count": null,
   "metadata": {
    "ExecuteTime": {
     "end_time": "2018-04-08T01:20:58.620126Z",
     "start_time": "2018-04-08T01:20:58.614937Z"
    },
    "collapsed": true,
    "hidden": true
   },
   "outputs": [],
   "source": [
    "puzzleInput = '''157\t564\t120\t495\t194\t520\t510\t618\t244\t443\t471\t473\t612\t149\t506\t138\n",
    "1469\t670\t47\t604\t1500\t238\t1304\t1426\t54\t749\t1218\t1409\t60\t51\t1436\t598\n",
    "578\t184\t2760\t3057\t994\t167\t2149\t191\t2913\t2404\t213\t1025\t1815\t588\t2421\t3138\n",
    "935\t850\t726\t155\t178\t170\t275\t791\t1028\t75\t781\t138\t176\t621\t773\t688\n",
    "212\t977\t297\t645\t229\t194\t207\t640\t804\t509\t833\t726\t197\t825\t242\t743\n",
    "131\t43\t324\t319\t64\t376\t231\t146\t382\t162\t464\t314\t178\t353\t123\t446\n",
    "551\t121\t127\t155\t1197\t288\t1412\t1285\t557\t137\t145\t1651\t1549\t1217\t681\t1649\n",
    "1723\t1789\t5525\t4890\t3368\t188\t3369\t4842\t3259\t2502\t4825\t163\t146\t2941\t126\t5594\n",
    "311\t2420\t185\t211\t2659\t2568\t2461\t231\t2599\t1369\t821\t506\t2227\t180\t220\t1372\n",
    "197\t4490\t141\t249\t3615\t3314\t789\t4407\t169\t352\t4383\t5070\t5173\t3115\t132\t3513\n",
    "4228\t2875\t3717\t504\t114\t2679\t165\t3568\t3002\t116\t756\t151\t4027\t261\t4813\t2760\n",
    "651\t3194\t2975\t2591\t1019\t835\t3007\t248\t3028\t1382\t282\t3242\t296\t270\t3224\t3304\n",
    "1858\t1650\t1720\t1848\t95\t313\t500\t1776\t207\t1186\t72\t259\t281\t1620\t79\t77\n",
    "3841\t3217\t440\t3481\t3643\t940\t3794\t4536\t1994\t4040\t3527\t202\t193\t1961\t230\t217\n",
    "2837\t2747\t2856\t426\t72\t78\t2361\t96\t2784\t2780\t98\t2041\t2444\t1267\t2167\t2480\n",
    "411\t178\t4263\t4690\t3653\t162\t3201\t4702\t3129\t2685\t3716\t147\t3790\t4888\t79\t165'''\n",
    "\n",
    "\n",
    "testInput = '''5\t1\t9\t5\n",
    "7\t5\t3\n",
    "2\t4\t6\t8'''"
   ]
  },
  {
   "cell_type": "code",
   "execution_count": null,
   "metadata": {
    "ExecuteTime": {
     "end_time": "2018-04-08T01:20:58.646487Z",
     "start_time": "2018-04-08T01:20:58.627555Z"
    },
    "collapsed": true,
    "hidden": true
   },
   "outputs": [],
   "source": [
    "listChecksum = []\n",
    "\n",
    "# split input into lines by newline delimiter\n",
    "for row in puzzleInput.splitlines(): \n",
    "    # seperate different numbers within line by space/tab, save as row\n",
    "    row = re.split(r'\\s+|\\t+', row)\n",
    "    # convert numbers in row from string to integer\n",
    "    row = [int(i) for i in row]\n",
    "    # get min and max for every row\n",
    "    large = max(row)\n",
    "    small = min(row)\n",
    "    # calculate checksum for every row\n",
    "    checksum = large - small\n",
    "    # append checksum to listChecksum\n",
    "    listChecksum.append(checksum)\n",
    "\n",
    "# sum all checksums\n",
    "sum(listChecksum)"
   ]
  },
  {
   "cell_type": "markdown",
   "metadata": {
    "hidden": true
   },
   "source": [
    "## Part 2"
   ]
  },
  {
   "cell_type": "markdown",
   "metadata": {
    "hidden": true
   },
   "source": [
    "> Find the only two numbers in each row where one evenly divides the other - that is, where the result of the division operation is a whole number. They would like you to find those numbers on each line, divide them, and add up each line's result.\n",
    "\n",
    "> For example, given the following spreadsheet:\n",
    "\n",
    "> 5 9 2 8  \n",
    "9 4 7 3  \n",
    "3 8 6 5  \n",
    "In the first row, the only two numbers that evenly divide are 8 and 2; the result of this division is 4.\n",
    "In the second row, the two numbers are 9 and 3; the result is 3.\n",
    "In the third row, the result is 2.\n",
    "In this example, the sum of the results would be 4 + 3 + 2 = 9.\n",
    "\n",
    "> What is the sum of each row's result in your puzzle input?"
   ]
  },
  {
   "cell_type": "code",
   "execution_count": null,
   "metadata": {
    "ExecuteTime": {
     "end_time": "2018-04-08T01:20:58.651515Z",
     "start_time": "2018-04-08T01:20:58.648535Z"
    },
    "collapsed": true,
    "hidden": true
   },
   "outputs": [],
   "source": [
    "testInput = '''5 9 2 8\n",
    "9 4 7 3\n",
    "3 8 6 5'''"
   ]
  },
  {
   "cell_type": "code",
   "execution_count": null,
   "metadata": {
    "ExecuteTime": {
     "end_time": "2018-04-08T01:20:58.681742Z",
     "start_time": "2018-04-08T01:20:58.654759Z"
    },
    "collapsed": true,
    "hidden": true
   },
   "outputs": [],
   "source": [
    "sumRows = []\n",
    "\n",
    "# split input into lines by newline delimiter\n",
    "for row in puzzleInput.splitlines(): \n",
    "    # seperate different numbers within line by space/tab, save as row\n",
    "    row = re.split(r'\\s+|\\t+', row)\n",
    "    # convert numbers in row from string to integer\n",
    "    row = [int(i) for i in row]\n",
    "    # get bigger number in row\n",
    "    for big in row:\n",
    "        # get smaller number in row\n",
    "        for small in row:\n",
    "            # devide bigger number by smaller number, if outcome is 0 \n",
    "            # and the bigger number does not match the smaller number...\n",
    "            if big % small == 0 and big != small:\n",
    "                # if the bigger number is really bigger than smaller\n",
    "                if(big < small):\n",
    "                    # divide small by big\n",
    "                    sumRows.append(small/big)\n",
    "                else:\n",
    "                    # else divide big by small\n",
    "                    sumRows.append(big/small)\n",
    "\n",
    "int(sum(sumRows))"
   ]
  },
  {
   "cell_type": "markdown",
   "metadata": {
    "heading_collapsed": true
   },
   "source": [
    "# Day 03 - Spiral Memory [To Do]"
   ]
  },
  {
   "cell_type": "markdown",
   "metadata": {
    "hidden": true
   },
   "source": [
    "## Part 1"
   ]
  },
  {
   "cell_type": "markdown",
   "metadata": {
    "hidden": true
   },
   "source": [
    "[Puzzle description](https://adventofcode.com/2017/day/3)"
   ]
  },
  {
   "cell_type": "markdown",
   "metadata": {
    "ExecuteTime": {
     "end_time": "2018-04-08T01:16:54.112657Z",
     "start_time": "2018-04-08T01:16:54.107178Z"
    },
    "hidden": true
   },
   "source": [
    "> You come across an experimental new kind of memory stored on an infinite two-dimensional grid.\n",
    "\n",
    "> Each square on the grid is allocated in a spiral pattern starting at a location marked 1 and then counting up while spiraling outward. For example, the first few squares are allocated like this:\n",
    "\n",
    "> 17    16    15    14    13  \n",
    ">   18     5     4     3    12  \n",
    "  19     6     1     2    11  \n",
    "  20     7     8     9    10  \n",
    "  21    22    23     ---> ...  \n",
    "While this is very space-efficient (no squares are skipped), requested data must be carried back to square 1 (the location of the only access port for this memory system) by programs that can only move up, down, left, or right. They always take the shortest path: the Manhattan Distance between the location of the data and square 1.\n",
    "\n",
    "> For example:\n",
    "\n",
    "> Data from square 1 is carried 0 steps, since it's at the access port.\n",
    "Data from square 12 is carried 3 steps, such as: down, left, left.\n",
    "Data from square 23 is carried only 2 steps: up twice.\n",
    "Data from square 1024 must be carried 31 steps.\n",
    "How many steps are required to carry the data from the square identified in your puzzle input all the way to the access port?"
   ]
  },
  {
   "cell_type": "code",
   "execution_count": null,
   "metadata": {
    "ExecuteTime": {
     "end_time": "2018-04-08T13:20:08.066377Z",
     "start_time": "2018-04-08T13:20:08.063819Z"
    },
    "collapsed": true,
    "hidden": true
   },
   "outputs": [],
   "source": [
    "puzzleInput = 361527"
   ]
  },
  {
   "cell_type": "code",
   "execution_count": null,
   "metadata": {
    "collapsed": true,
    "hidden": true
   },
   "outputs": [],
   "source": []
  },
  {
   "cell_type": "markdown",
   "metadata": {
    "collapsed": true,
    "heading_collapsed": true
   },
   "source": [
    "# Day 04 - High-Entropy Passphrases [To Do part 2]"
   ]
  },
  {
   "cell_type": "markdown",
   "metadata": {
    "collapsed": true,
    "hidden": true
   },
   "source": [
    "## Part 1"
   ]
  },
  {
   "cell_type": "markdown",
   "metadata": {
    "collapsed": true,
    "hidden": true
   },
   "source": [
    "[Puzzle description](https://adventofcode.com/2017/day/4)"
   ]
  },
  {
   "cell_type": "markdown",
   "metadata": {
    "collapsed": true,
    "hidden": true
   },
   "source": [
    "> A new system policy has been put in place that requires all accounts to use a passphrase instead of simply a password. A passphrase consists of a series of words (lowercase letters) separated by spaces.\n",
    "\n",
    "> To ensure security, a valid passphrase must contain no duplicate words.\n",
    "\n",
    "> For example:\n",
    "\n",
    "> aa bb cc dd ee is valid.\n",
    "aa bb cc dd aa is not valid - the word aa appears more than once.\n",
    "aa bb cc dd aaa is valid - aa and aaa count as different words.\n",
    "The system's full passphrase list is available as your puzzle input. How many passphrases are valid?"
   ]
  },
  {
   "cell_type": "code",
   "execution_count": 1,
   "metadata": {
    "ExecuteTime": {
     "end_time": "2018-04-09T23:18:29.249847Z",
     "start_time": "2018-04-09T23:18:29.246521Z"
    },
    "collapsed": true,
    "hidden": true
   },
   "outputs": [],
   "source": [
    "import re"
   ]
  },
  {
   "cell_type": "code",
   "execution_count": 2,
   "metadata": {
    "ExecuteTime": {
     "end_time": "2018-04-09T23:18:31.391270Z",
     "start_time": "2018-04-09T23:18:30.892711Z"
    },
    "collapsed": true,
    "hidden": true
   },
   "outputs": [],
   "source": [
    "puzzleInput = \"\"\"una bokpr ftz ryw nau yknf fguaczl anu\n",
    "tvay wvco bcoblpt fwzg sfsys zvuqll mcbhwz ovcw fgdy\n",
    "ynsocz vid rfmsy essqt fpbjvvq sldje qfpvjvb\n",
    "yvh nxc kla vhy vkbq cxfzgr\n",
    "kljv ymobo jlvk ebst cse cmlub tavputz omoby psif\n",
    "ebfuvvu paqgzri uvvubef hglk jvn gzeln bdl ziqgpra bzcfa\n",
    "tclq ytw tclq tezcqys\n",
    "qae eofr yzwcwqf wqm ytcdnc pxnmkw\n",
    "krryi irykr ycp lbeed ykrir lhq rdd tyujwd\n",
    "hms pii lxoa dchsvz bepjwst bllxkqg hsm yrdj myzvju msh lwnnc\n",
    "yxqh hqxy xkn ljjsqjh jjljshq\n",
    "mhgsehj urbvnvf gbz ykxsd hsmgehj wtoc ujpfaos eir vifog tsy kdo\n",
    "wfruf wwijme pxbbsvf asmgs ccbn vwtc mkhah oxxfh\n",
    "lxqy jzvcvd cfgg uahxrwr dqmaqr bwzm wruxhra lrb lmk\n",
    "jspgxo yuhgni njzqtn zglkzz ybc itj orqr zgqwuoo mjagh erll srqrk\n",
    "cbrtnbx ukblei ienmdm sinzq lytyliz mma lizylty zeumwgu\n",
    "aeggz eljcry buqdeog dvjzn ilvw arz vep kxdzm mvh szkf\n",
    "imn sfty ugg flqq nydky mni bkqzlok wye lehwlmp xeyfmj\n",
    "beyv oamrpkc tebdkwv zlq jes mqvif sej qpsnmjz edvtbkw\n",
    "hylmacl wwlra xntnvg ppvb bzof cymllha\n",
    "qktxomf ngfpuz qqz malc zxuqz szg zis vzro rfpgk\n",
    "phru sxlg qzqlw uej vmd omzga jue\n",
    "drzgojf ttqdqar weikik wvrjtxi gbj jramqh nlwoj drzgojf bgabmn xqlaeun\n",
    "aiuohu pca apkmv cpa kmvpa nmdn\n",
    "gelymv eto itcnuhn ote teo\n",
    "oxiz xzio kqu wwgow\n",
    "picoyb coibpy acsw ehlirq deyz gymqvz opicyb vuet lrl\n",
    "zerg rezg miwtjgw gezr cui\n",
    "mlh qlu ktil tnlgnrk bfqbk pgg qxeyd noadmjo nonlsh eqxdy\n",
    "yqqaq yqqqa xod oss\n",
    "mkotw bznvs xowoofq sebp wsgpsmn fytcpc vvmzr vmzrv xwtxz zrvvm\n",
    "dvs twhz teqmlow oqg sjetxd aku cwl qfvrkex mndsio hfg\n",
    "itdl qwdagkk wli tdil vlgur dyl xvfm\n",
    "wlmyd dwmlx zhmqd zqmhd edzsvmz yclg umpq\n",
    "petva gazw byrca pvaet epkoqh nlp vqfl vatpe\n",
    "rykn ckr dijkme kmiedj ozlh deikmj\n",
    "kuecjh sfqv pojfzf fjopzf fjpfzo amxtc\n",
    "hri gglmial lrwbyc memgszu hir cfwlg ylcrwb\n",
    "rxrfbtv pwpra fngt auh rapwp zrruuq uah\n",
    "cevc utfd ysrfcw nnlg fnqtx aua htteunu mrjhhj\n",
    "tvnxznj mvpagt nqmxvnl mutn ntmu eybh vkqeaj frayclp\n",
    "ygktzxo lzwwy qsipu nwb jdmw pahao paow mwjd uivqbnj woap nyyogcc\n",
    "log zihz rsmx ixfr xwvd osg zxc gol ufnbig\n",
    "dogve cnb osa xbafl vefr nxlw yjgquui\n",
    "ucyl aaoae ktjvi fyps xvjhpbh iiur tuc\n",
    "pqt jasxg ehhs lzjzzzl sqmmj vwyva eklbtv hksanb fuesnd oyw fuesdn\n",
    "uankv wesi frhpau qiucu lim uzbdapf ciwjd tifbqxh tfbtsdi\n",
    "vgjd izpofu fqjpcct phuz\n",
    "cfg cfg rgahl frm emn pbfsmgy frm jemwqgn sfpm azunntj igl\n",
    "daps hpe fqg err sapd dci vbzlqx gsigq eyp rre\n",
    "iuqyqdy djprdj mgtkdxr pwmkzv wmkvzp hppisd pidphs\n",
    "rlr rrl vhevh cucprc xki urte lrr zfc xrqydzk ipjkyxj kytul\n",
    "jwbkaee rgyjl rjljbwe ppq plp pfts ijd ckpvmw mbdrqh zolt lzmr\n",
    "alw law awl wknavtb esklsbj wvssyai\n",
    "aqy ldf qdht soxkg qtfipe nsdm aqe rtlc fbqrk ius gybbhxr\n",
    "xteov wgqoqim nlz szlj oxevt xwb\n",
    "tmgdst fyn oul tsohzbq ltmxji fgops gatssx zxdzfc talb\n",
    "zkvjpu jnhtc nxs jqv pyoqz zsj ckwd xot ykai\n",
    "fxfarre yjbxvj lqfaglo mbxuv bmuxv bxumv\n",
    "yrhi uosldj hryi fwres ycygw ycvxze zevxyc iyk\n",
    "yphev xisbai xdb hzrbg ayxbhdx qnvbus pwc\n",
    "wytqraw yvurj erqckl rvrvda xsh gsd bxtm acxle gpndk\n",
    "kpvjtu vacggk oabcuoq qusf zitqpgn pbyq ocabouq ntpgizq gaiiry dke\n",
    "frz ceozajo ljltawq tjepzp iflv\n",
    "zntejm dkfgc ysno noys sony muy\n",
    "qdnyvvw oykq bnmldt zjgauw pviurd cbcnl tnkhq ebsey bccln arvwe\n",
    "iqazt xidjgom wcrdz itht lfh ifzwkj rwqxhy ervcgmt vojg lzntz ezg\n",
    "tlcxioh qvvkan wpi ody\n",
    "mhsy dwm hyms yegvvc\n",
    "hbkvi wvemc uwxgqf pwrgu wcy wxqfgu qkzppc vxcwdwd rcgp ivjd wmevc\n",
    "upc ucp cpu unmr pyod\n",
    "bqfew ebwfq paccwh phgc fchhr jrnio\n",
    "abh bjalls bdtac zzvt totdlc yptqmgu rpcin bch cqklqly\n",
    "bsnss qcsgi tegyz lqoqkpf qvatlyu ibza mzfotsk lye oqqf mnor\n",
    "lzrxca stkbn axhr wckbip bsntk ahrx\n",
    "oricdw cnpte dbz nqx xloxc bdz fdsl uyvgi nvoy ezbi\n",
    "nlcqye ofta jcvqvtg yxduyh btawc tjgvqvc tcvqjvg\n",
    "nji znctdfm kkmp pmt ikhl jjoubc xnp zdctnmf covvmsh ydh ircplcm\n",
    "yafkuk yasqsyt ytqayss nusgb ukfyka\n",
    "yogcf emg jlkd blupemf axg wihhrb ysernt yznhz\n",
    "gmc yyqtgp use lohoit\n",
    "lclwa ojjkm rxr rrx\n",
    "punyfv iphw ddbc jghx lrssszc bepexv sicpy syicp lszrscs vrqjb\n",
    "rjanra juh hljdmad scu usc baifu ijs suc bgdbbv\n",
    "ogs hehi lgiwowc wwezznc ogs lorcl naunpll wlmal ajcbj ciujw\n",
    "slenm xxod vhf amhts\n",
    "mrrduda mrrduda lwecwjv lwecwjv vvzmjla cjipv\n",
    "ixnv invx inmzz aoxghpv\n",
    "ulyvfrf zsup zfryjy xoo agdsd giw papa ljtu rzbjiq wrex\n",
    "bzpv svpuyov mklrct uzox\n",
    "fxs iypd uaqch kxazj ksjyv\n",
    "uxaommf xtq uubbfk bmlq kdhgjzg oxwpag itfij irmkjx ggod sddcyo bopn\n",
    "lch plmvfni qbjr dnu zjcod qlwax gejmyj gxjqm mfzkb gejmyj\n",
    "yoa thrfbto wposvrm amulogu mcqzfax fjquli oay\n",
    "kywj kqqhney ozuljxz wqwfte ubo mjj anhhg aphy ocfnef yhin ywnx\n",
    "vxuledm wllj obqtsrr jwll uvmelxd xvj gbwte\n",
    "hevc bitwu ydw ywd btiwu iuether gfe\n",
    "dzn ssmfpel wbbdeyt xge hrfi\n",
    "zebz ifhq euto ppfnrwc winkkj\n",
    "utuly wtdt iahpe ihtxwmh zxun bqluj hsaxgcs ytluu jlfnnuv drxlctr myhp\n",
    "kwxgy hreul rsnh wdmsx kkajywb\n",
    "bond djq kccazc zvzcie hndm myx cmhyhkc ove ord dqj\n",
    "zcong tekgn pbzs ywqgqgu eizrx ypydeku yqyjdjp dwsu zxire zcgon iggnvf\n",
    "tkioh hflkm fsjz gisjbi otikh\n",
    "ccdqqm fdabbne fyd lbyqm cyzgtd puitvjz nluf hirrpxd tgxrg vvl\n",
    "hjnygbz fnu twwbp xqw pfdlt uoalyme rsd muayeol ezcq\n",
    "kubeooi bxgwoun paogjs twvwlji opsajg higbdfi aazo evmj\n",
    "sfipxe mqbkmrn plwqd zvq nmvom fyfbs nbs qkrbmmn eym kqnrmbm\n",
    "ruhsp hurps mqws umm sphru\n",
    "ksjs pgpxh qozg enplxbn oqzg rvjnaje sjsk\n",
    "rbwbvog mhgtgg uld twrqz rbf kpop\n",
    "lwho lohw ylhd dej lydh vsfffsm\n",
    "icljgu gluijc vthqx orynv xhvqt\n",
    "biav elxkct mtaw nlafk snyr cbqdwim blim rtrqmc wze cxktel\n",
    "fgpeia ebkhga azlfsr bsj pipvwsd nry bayrjzl ftth ynr mfhd\n",
    "ymlowur nighqgk yjv pyxf nan xamb ohm jvy owrxbg icbz\n",
    "iyyt linaqu httt zyfeo udap mllq pdxo lpl djhqaou zkit llp\n",
    "dxspk yge kcqjqpz ulb hoe mfx nwayo\n",
    "rdnmmh gyqd qhxrzj dgizu lyittbv txngpdg fiu mwd ndp oks vxnxybi\n",
    "eul ztpe evnz yxx iuwon rkbbsw liy mqhxt\n",
    "qahp zwn ualtk txbt cbthj xchqy pirucp povdwq\n",
    "mqwu mwww muiafa miaafu hzripx wmww\n",
    "auw hyyi ylewfi ihva jknbrry voxzooq xaos xymv qzzjw hjc\n",
    "enpb jqa ajciy cbeopfs tqrlqj ecudb gso cyjai gxoet\n",
    "yohkjj yohjjk xapawgo rtgnjj\n",
    "lnlxxn nxllnx vhjrev uoew zts smkd kynlrg\n",
    "bkblpr vgafcy alju aiyqe eebtsyu buve hdesodl pspbohw\n",
    "aacmw qpndwo tcwsfqy qecnms wondpq sto\n",
    "wdsyxe edsxyw jnzruiw pfqdrhi\n",
    "pfgxekl vswgxhb qyn mykn jimiatq zkcz jimiatq kaexgxm mykn\n",
    "xegwn upudt dew uqjrcl abyof hbtiko wxgne sorgno etm\n",
    "xzojs zxsjo szjox gumjtwi\n",
    "gttngkk bwdgce bhuw fgo rcbf byw\n",
    "ngtzwqx ptx xodmy ctmtf oioahmm qajlhje jzilpk cvypp ijaefz\n",
    "arlx slcugvm hyuo zoptsh emyr tndx rroecp tdnx xea rtkpd\n",
    "sfckdx ktyrjju ruwjtp zhqznj vncun\n",
    "oqqh xpc itrdg gtrid hoqq tuo yijh ncp suvck jic\n",
    "brrlqu twdt urblrq twtd\n",
    "brfuh arwtkpu mzlj wdyqk\n",
    "pmag dtwnva nect azld axqrwy apgm xbv gdq ienubsy andvwt\n",
    "hqb qbh gxdl mwjn cmfsmik\n",
    "yiwma utlor qxjfjsn aomlvu gxp ryj rfkdsw kuguhyi qxxpg\n",
    "ifq wcvcgly jdalgzx lgcycwv rajmnqw\n",
    "latakk yxxbw evy vey\n",
    "odkvw ojgveb jhg qwhkyoh btvu qbfot nouv owgtsi pdwbmfn pmvcv dnqbo\n",
    "tmka qqnty knz swi fyvmt ikcdu jfjzsfu dshgi cosacuj szjjuff\n",
    "eanet uua fbztk bzkft\n",
    "jepi hyo jgzplr jyqk zzcs iepj hfamvu bfgbz sjsnf lprgzj\n",
    "mlca ywko mtg vkfv ojka zbelq qkaujs simt kafq qtycfzo\n",
    "sqh omv llvra ecvxmtx dpnafv llvszx xzlsvl quj ufnhvod faraf fivmnl\n",
    "pvxlls fzeoav ahgv uhq nodcr cohy vqisgaj jsfcyur dbohh\n",
    "ztccbwk okv vok kov ywel\n",
    "xyu cmaikc jgqu ozccdzk ybn yoeq fky aetrkj eyoyvla laiu cermo\n",
    "sssnb kxly mgvaz jpffkq bysbwwu rfnkm eycp ipyd hyi wjew\n",
    "obdfqmh flkm semednj iafewg lvh uwa ciepe\n",
    "zmldp ykffe gtehz qlmvule edrtzg prund oagwto qia bvyxur\n",
    "kjok neno qbxh wqgkkt ympclso poyclsm cajgnnn\n",
    "paqili kur sfit jbqchzx bhjqzxc\n",
    "fhghm ubtaana qbn autnaab aaaunbt vmz\n",
    "exlrl hfnpq zgdwx smix nyg ogccrhj iimhhwc uhcldo oydwxp kqc jxxpycv\n",
    "wtdqjfh ialoqr zeej ipoh qtjdwhf wdhqftj\n",
    "jcgug cmtvmu ynhnilj txlv uemowyu cvrool oolcvr njr cxqntdh\n",
    "uhtwtp tgnc jmmjl utiu jfxtsoz cxwqcz\n",
    "qntxl lyownp tsp tps mixyge rqfqumc bxjiry zmaj azjm\n",
    "abt bat tftvm nyjs jyns\n",
    "hzsdh pwthfvm cedg hzsdh rsxtehn owh cedg\n",
    "hcoiny aqbeme eeuigt pocpvox tiugee rwb tvgmyc ojg hgdaf\n",
    "mzlwcfc uoobo bouoo tvgvmiu evsfkm popgm evmfsk ehxvits vebxbmd qhmz jzj\n",
    "mypgg jbpx vgeb ahvjl zbm ancdzfy wytkcq\n",
    "bivscw zmzmjxu jzm fwb ujefxp jzsiskp cgx atcj sszikjp cxg nqvxga\n",
    "vvurbxp iry zlz gfnlpuy npyugfl\n",
    "fpmee mhj iul lui liu\n",
    "xjoesn ggsdc vnisnmw kyxmmv xphfq\n",
    "zcsml ngzlpy udaoab eotbv ylca bfmums izx\n",
    "pdi bpyoep cofsy qazl oaovek fvfbe sotc lfdmaea smvs\n",
    "zajm bskaqhj qxyiptb bdyeuqr dqjrekn iywj\n",
    "hzhky hukvpve iqcbwju nyiwb rvutxlb hyuah urnhxg savicaw hexr ptedk\n",
    "qndji wrr sin ljogf ncrb zvt tvz\n",
    "kvfke tjpzhrl zvd doq kxyw fdgr oqd egkybdh rqpfxks nja\n",
    "escstpv ccc ryzdv gxkjuyt gkhw jxnfda awpzg csestpv\n",
    "cpcd onxeae nimbrpt zyji qnuo ktxgwbj vtjfglz skcozd zgii zgii nimbrpt\n",
    "lwq iue hfbv hgbg aeqc\n",
    "vzgbod yjkoc ckt bpiaz\n",
    "eyco ecoy uzousjp faxj utu yoec\n",
    "fhqdi myd tvex bzizkcx pifcfhz fczhpif eofzv bqzd knbhbgj dok ffcizhp\n",
    "qlqlgmz hofmnc cwtk ahgnpne acn prwdh hwdrp rfofhl atavrf afkcbk\n",
    "sgl apyfr pwxzptv osuwy vmqqh soyuw lqilked oinhh\n",
    "eglqdox gcxfxql ejtnwu wvho can eyu uetwnj elgdxqo atvpkk eailsnn cwosyn\n",
    "mylxhuj kbc apnllw qbmtj sqy hxtnvoe ins iyudo aagezrq nsi ikvn\n",
    "lpmzo tkdeg zilkm vdkmtf yulbdd dkfmtv\n",
    "fzrv grq zfvr ychga gqr\n",
    "vdjxx wew pdxgp cjywsc meoffrj pgpdx chxmw eizgz ruea\n",
    "iaklyhx btqqik tbiqqk ynmq laxykhi qatrnsh lnmtm plz\n",
    "sfogup jtdsx tsxjd wwzkyy wzywky vgdsgr\n",
    "paupqb kyy bccklmr vopviup lctcxza yyk yky\n",
    "gduuia doek hqcr upvb szeewnu rrrdz\n",
    "lhnsaf lut kzf allu dvj tyngx zkf aqsgz rtkzzdz\n",
    "xxqj msg xxqj ezmm tmyji msg cco tain ctpel\n",
    "pvcfzv rhn hlhxyu bghzzpx dlhvr hrvdl lhuxhy\n",
    "npzhkp voghdv rvezqff hvgvdo jndf gpa wevrwpu\n",
    "faixq aecax hxdouer yqlngzd grf wid iwd cce xnmmr\n",
    "ifqwiah dib ibd dtvkwqj mpn dtwjkqv kyntq xwlv\n",
    "rwoiz dja cvv lvza kfdblq bgtwgh ongdub wggthb lvaz\n",
    "xajf eyasx rupsyqx wubjwx bsrqi ripghci sbzxp sbz dhooax\n",
    "ydnv tvhwgp uvrh yryhl yxdlwa ladwxy awi mkwyn ghvpwt\n",
    "qrl vwdvwic ocbhpi bcmz dor lrq hokg gokh\n",
    "adz echnlju ebnmw twjl cfw loq fqklyyq clgqq jtgpsu wltj\n",
    "vwlgisb murtsw ldkacqv wxfcke vcqkald ldhh gsl kpzn\n",
    "itnvo lyddd saewfse spnri vtmst iblx\n",
    "qsgv qni wvqiih mneg lkpb quhbkyi\n",
    "efwaaa huu fslzwpc uuh szflwpc\n",
    "sgmj ajh vcwpcua enltaks aquooh bwoda txbuve\n",
    "vbe astgezx xqbxkdj evb bev yuuesdc fvohzq\n",
    "gpn oqxfz pbwibjw gljdbf gbldfj sis dpk iss\n",
    "pha ebybvye ntxhs wcuce\n",
    "odnnywv qpcjll aslxqjm injfs vkbturz atxi\n",
    "zzncfj kbhk jzzvnwf kqipx qkxpi rzb czfnzj\n",
    "ygu vqpnxkw trdtv rrte\n",
    "hrutley ljxuuq yonbpmk hmpc etyrhlu\n",
    "odxp fpvizzx dxop jjbr skhxq mpzawhe zptdxuu erxk adbbuk zfzipvx\n",
    "qjovasi yutjpg rcp bykpctm fqmmg pckbymt hqj\n",
    "ssqc cype tkowxb fbh rsluu zjk scrukwv pkuexk qlgjtdq oulrke\n",
    "bkcd nnf hdj sdlweyr uyf kmvzq\n",
    "sgeg moy png blv bblree ufe uqknuqd lnjwbh\n",
    "snpex hrbcfok pffv cwrvhcs fpk uprhn gbpy zkxyi esug ccnnj\n",
    "bmwue dugcrdu uifiy clid rdmodec jodp hti xptj tpopl vuwhdyi hnoq\n",
    "cwlkg qsz nnp lfyk pwn dpe oeuzp jusxxkq qlnchc\n",
    "tsmkvge pxauyc cxypua boi hybq rzf iioyi rtedkc gjmk iob mqb\n",
    "cvip wgbjhe ulwg jckkwd gdu bmaoisp\n",
    "drpl xbliszf rpld ngnvgxl xnrd xsmd oetrcmn xvfohp mtocren\n",
    "habmf dmfxq qitw xxtybla cxvb colcvpj sowoeuh bhmfa plccvjo naftjgw\n",
    "cix soo icx ahx cdrjyxe htcnp\n",
    "acoksaf cgahlg tdj euchwnj bdn lunouq aewrk uktre kklwqy lnouuq\n",
    "ibsel hwjbah vxuk bjxa dvzbpq tffqvo bjax qfoftv\n",
    "iynms tzv jakuuw cmz cjnyr ddibtd gcb\n",
    "tmgerk pvwizc lxoma ergmtk xmg loaxm\n",
    "ajazon yjwt viyemnk wobzwwm jcucn nopymyq znaajo qcjtmlq ccjun ywvt oqczod\n",
    "kdhgnv kdnvgh rpyrxx xpyrxr\n",
    "qftmshx hrbr kcggxw jwtuk qxbzkn\n",
    "ddi fjekwxs xxua cmmkrso\n",
    "ptrsv favvfh innnnx nninnx\n",
    "kzsnd pnf evtazgw wmjk gvxp bslajo\n",
    "nphqtka umlxu ymw whqiab whqiab vwigkz pevtps\n",
    "vhje cnu uzfzum rwucy mxr wyrdqfi gnkuwz dkrwc otfc vbfc\n",
    "ubtzio vlijsst anruj qyntadb fnic klz ywqq fnic vlijsst\n",
    "rprj ybyqawb tgeieih nzcr rjpr bjfpozh tpevsx flvjdq\n",
    "kvqqzvm cfdm wzjmkq sbcfx vzmkvqq\n",
    "zqtt elpg eglp uoe glep\n",
    "lqv madhtch xevl fal ijmx chcpra lzl afl cndbvnq\n",
    "yjx jyx xjy otwklfj\n",
    "cur egsdzaz ocbx wvky coxb pgiysbh lclhvy gfu oxbc vqyjvhh\n",
    "gtd pytdaz kecsku nkiud ytt bmgobx tyt pfleji ebqlifv lqp ytzadp\n",
    "bopfdvy eovszvw krgu jhuhyqi kaczafr krgu zlfxtl\n",
    "yixprs zqai oprgw vcsjoc pgorw ypx ijo urjcjqv\n",
    "estg oqnhw xgwajp mpbsag ibzi\n",
    "zggbt jmmtkru sye ybd ztggb\n",
    "tzryuqb blyxnnu sjpmf yxe zimf uyzqtbr qbyrtzu\n",
    "rzivz rxn invxqd nazw efzun bwnw ywx rfuda jhnoww mketav\n",
    "zxfw zcaqi qaciz ktefiwk xwzf\n",
    "ntougl fvyaxfr obml obml bjkm lgsqj yfcggdu rqcpgt ntougl nveto\n",
    "rma dakifg pvfc ticvff iffctv difkga\n",
    "wpnt eclov vmmoqh qvw mljlvnj hxrx\n",
    "ijnpo uhgxrfe xxopw xuzwyd powlpo ctduj eepw gubnepv\n",
    "rxcmve myxckxk ecid nxe xevrmc juzaonr ilkx zpb pbz mvgos yzr\n",
    "yfecm wqkh defqqa mnzgx nwe ixxg rjdhe new\n",
    "awztgx vqgnfd iwcakr ajaiwn jiwnaa uqfrim wrgbjon ufqrmi vdu yjwy gwkdc\n",
    "vrqf yzmvnr jkjji ghya pdlye ygha qlcm twmkex frqv\n",
    "hjb xgypw vtr mgj asa owcuks fnllp ommrhng senv iix\n",
    "usw iyuatv ondiwh neac ttge tzw bvjkfe neac usw\n",
    "qwehwhj idrwo vex zopkjd lrcc sfqyz smte qrfh lccr qwjhewh vlb\n",
    "efnlhsj ltm xirn nctwio cin\n",
    "zocc cpfo czoc oiz tftk\n",
    "rlzvqe inivone kptyumn eatw urjxc aetw\n",
    "qavvqa jvvc yux cvvj\n",
    "bfr fcpc xpkphcf irak bfr nuhsooj nniugf bfr gllq ipo\n",
    "ekd dydxs rnmgb dek yowk\n",
    "ipdll wdgx gjiigd uleiwg buvv vdhuzg gigidj gkyigmx lpdli lzyode fqdpvms\n",
    "ycna rhyz bsipz lit rmc mrofb cyan mrc wujk\n",
    "tjrk cwdsvf srkdjy lsyvryj nko syjvlry fgqq srdykj pgb koh dyle\n",
    "sflcxt wmgdgej akllaoa bbsvve nsxnt nsxnt kgm akllaoa btqbez\n",
    "bzmoci agemx mdtiol pyohvf zwtx aqblx oibmcz ypcmz lfg ckssn ozx\n",
    "cuojke joekcu eusr dxqk xxwob klpsm\n",
    "byspz lyunt eojrx ubh rjxoe ypzsb\n",
    "ibok bkrtut wzcdk ppm qekhvy aupaic vswwul lmlxrv ainigy sasurbx\n",
    "jeigcyc cycgjie resio ncz\n",
    "xvxr lmlaje ebmtn cvms xrvx vsmc\n",
    "cfjbffj xvo hpsbu nfm jhlsk mnf fmn\n",
    "xncxo iwuon voj aebv jks nynzl hwjwo womejo ugzmr tdfaep olpdiaf\n",
    "jlnusc hgpprf nulcjs kwiwypu kitjjbj snlcju\n",
    "buqzm kpuoxel ajlqke qqdur jecuibn leajqk qudrq usi\n",
    "ahbnjf uuzecdv yfyrsxv eoqey oonue vyyrxfs jixmvao\n",
    "wjdi cfgurdl usdnlk jmao qnus cicxnux vtdxxkx nusq\n",
    "mlvfz twu unj mar qpiz fhjczpz ytl npwjys ppq koa\n",
    "ippdky pvwthzj qlkhl pvwthzj\n",
    "kfm lcedomr xgdkrzo hfxyoe rafcby uwe pzjyuja weu nso erdwc fjvc\n",
    "peep oufzlb fsgn kxj uge xvufb zsnrxss lere gfsn gvwajkj fmh\n",
    "mexvi kgkktz kgkktz auyln ghvqc mexvi\n",
    "wit qxtewrk qdaz oljeb wowb suergyt hxq pfnfbei rdu qrxkwte fyw\n",
    "qjjzkd oxedeu uoxbehs zder vvjnn ocxkiz wkblzy eyzksc waiiqo fut raak\n",
    "dhojys qkusuxs kzicui dcsxo\n",
    "hsnexb yoz inza gqxtbc rya jqfe ufzlqva\n",
    "scpquf gbloz ceol eclo qpvzavo rwfnxa\n",
    "jyg edqf vdpsihl edqf\n",
    "mbyjg yjgbm mgybj mhgi grw\n",
    "ler oxssrel jhw jwh sfa hdhlo gng auzoan\n",
    "hmkuis iaxf muhisk ikshum\n",
    "eodbpo prajasi zsu hyb npr tbcntup uzs bxchne\n",
    "zpyr kxmvz frlzwnb tzqrw vdh ndbwqmu cadwsv adq bzfnrwl qfgf\n",
    "dybnn dmarc mknr fovokgj ukrp cuwag\n",
    "khweq eljs rllijp pizevm lwws kehqw mkjcu otqodz\n",
    "fvsrb kzbjbcc kzbjbcc mee dhyedb kzbjbcc\n",
    "cnlmjd dvnd vhlvsa rsrtc scrrt tqhx vke jqmxpd udkjqc qxriw pfqpk\n",
    "tyureg urteyg rutyge rmoihs\n",
    "pccxeak tkmyane qqggpr tbdmpi ieb\n",
    "wjucbi wjm hais pcxjd kkzh qns hmf mhf mnsv ifigsc\n",
    "lqeyr pnopcig cpgoinp pncpigo mjfkjus cko zedvvyq\n",
    "ofsnspv goj wqm ynolb qczly brl lrupzg buof zladwte\n",
    "xzn zxn yaseulw qwhxb easyluw vvlmh\n",
    "aiybip ydfczwh wkl rjsu xreokl qov mko pna fkfu\n",
    "zjlwozs nxke ozwlzjs jybx jpsxp qtkll idsrad savpoe\n",
    "xph lpvkmvy afq uqhg qqjgm smg tmhem mxdyqx bvhot lpvmkyv\n",
    "jxkkzil pkjheow fewr ggbfy fuol cuzud wnx fxujfwh srjsmic\n",
    "lzbjx vfx sncis xuv unoa nlgs stdhf oibxsgk uhogsb\n",
    "hfqzkms bzyfnz npcd yhfdo myqukug pjq adle sqkfhmz\n",
    "czhainb iazcnhb hhaqr cyrwj zzow luuvt zdyhnh uppysr\n",
    "fyw dulbxa drewqsr tldlaac kyaw datclal ylplup hdzbj\n",
    "kiiv tly gua lfg\n",
    "gphbvwc lqdd jqja ffpkz hafal eiapksw wsikpea vphgbcw lkcpm zjxcx\n",
    "viapp rxt vdgbm ezphp pcqr bll mklgx epzhp\n",
    "favz bwmczgg zoyns pens wpgi mrwxel\n",
    "ozwjjn kbzaozc cuaa igbfyq swi uypx bczaozk pyux odvawqx\n",
    "npnpw nwppn egnpj fkzh wppnn\n",
    "asu mlqmwa npewa cjluw qmalmw newpa fznx dzypi yiy\n",
    "hleh usw bgmgscg cqc fijfuw idtyh cgmsbgg zjhr wus hymbju\n",
    "tmre fvm cgowgb eduyfla ttez vdzp vtmtaog ezxsfi gyxgzi pvzd\n",
    "acvarlu hkmfzdg jsnil hpv wjj rljpk pygl wjhhohk rkplj spvgx psgvx\n",
    "wyz rvuobq kbmhaf bec bec\n",
    "zosyz psuo lgihdo mjtftk fjkttm ddmcd\n",
    "pqm qpswpb opviwxg ppqsbw waco jpx\n",
    "yzgumgq kqv hqjghnl jixhoyg ufer kvq lzi rojm gbhvsd urd tuy\n",
    "sxc jndqc ozpex wkchpu tmwv utcxzd piecpma cmppeia\n",
    "ifjc lttj tltj rxmgxqa jcif lzhxkg zqb mdq kbjavv\n",
    "isyxn zjbj uiw avziqxf zpezazx iuw\n",
    "rjaudu amtpuk gufogys xiqs\n",
    "gau sndrkv cmiolti cdxm ikkcisu xusnfbp jxffy ffcizj psye sgd\n",
    "mvx onzmy oynzm mwfgvs\n",
    "mrdg roanty dljs jlil gzcj dqitnfb gxb vzzqf ooweeh pgs oyntra\n",
    "yna xgok fvbdl xgko udqp sorfo hmhl yan\n",
    "kycl ule blupejp kycl fhpkoe pqkptw cfzpv nkncl\n",
    "snugkyw zfdbsfs aehb olq kkoi xpsvy jqcspf lajjyu jtm\n",
    "hifhfa mii clukcbc fhhifa wcts tgai vvqsyr kclcbcu\n",
    "ordjftj dokk hdhytwc fjodrtj ojrjfdt san ajxrwy ked jfrqc\n",
    "eylx cohd biswq xgiibz gzcptbf eylx icunv bfg jqanbv rntp sbfkiey\n",
    "kub gdpbdms qnnto bit visqop\n",
    "tywk clicj daics cbuewkx yyjjjka vxzk afsdyqg\n",
    "bmxzll wqjnyr mxlzbl yutkaa qmpz hiqkf lqqqle jagj qlqelq\n",
    "jgdeatg qubj jsu bhgbm swmgy lwgnuh qjbu dqwiikp mgwys\n",
    "ryisldg asrrhz vxvrnk ibjr kebyx dwbx qdrpa tgakt\n",
    "dfvgzk hifan dpjdnqc ncnvf xmqjjao npjq vobt evtaety kvufds pcugx oyjo\n",
    "ezionjg ioznegj cykxy igeojzn ezm\n",
    "dkv dkv vfqyl dkv dtjhrem\n",
    "xfgh brsjcdw auvq fibb gcbecl\n",
    "eet qdnrymr ndqmyrr tpfqxoi kbkxw\n",
    "qhmaj maukf uygg hqmaj tfmtv irao wsari\n",
    "ofoywus wxs leemkn wfko dwzqv txg qsiiiss aiiffe fadmdq zjtaovt\n",
    "fgfms oazi sam msgff qif evxca reho\n",
    "gpzhy qxh sco qeax wtabxwv sjd oev\n",
    "xsmpi wskvku xspmi smipx\n",
    "ghgf tbpeun qdivuvq dump umdp khxcxtx laljpv lownp egovve\n",
    "vhmu eziabt hnz neko nkz hfmizn\n",
    "vqhb lax zzyf lxa lik jrqynr rgcos\n",
    "zjgbfzv ieufyz kjxad qxeuewx\n",
    "ufl drkaac hoyic pqutop wqzdk eewabsr mqspcr ewarbse dzqkw\n",
    "bgatanj xmddwv mwlmw scgzboo myignm lkfl fsqr\n",
    "xkrx otjzfk wek dpbwk cromg fclmhg pkvw wsln\n",
    "yyqjs lifg gifl cfv lfig fycza\n",
    "dfup fkfeiqq rcmuv dly iforzi lngkjc rzifio oiifrz mlhor puwm qrthoa\n",
    "nzfaeto punt rtmlg dwdk hyig\n",
    "mds ueoyclh lxb axgea wqt wwqqglf tqw yvzji ryr dst bojf\n",
    "ayoj yzj lyctgnc woxz gqltw lkzkwte wysb mjyeu hrwso\n",
    "gymmvtt lhskza lsb nhlijnt men zphurrw oftksy zxs ykerwue hnijltn iknqyz\n",
    "xuaxkc lgzeef fwb nlzzhjj lsieg qdr ews rue rdq\n",
    "xnf lljcmod kyuercp kvlvd lkvh ncn afaq\n",
    "bjytofa ltz mkyy bwt uxca somiz rhgdg keaqu ybr\n",
    "aipljn qpq nilajp udgkchc dirvxg rrbmi mxfxkk kmfxkx\n",
    "sfzjemk hjsvnmb hfd hprfmvg pbhkc\n",
    "cvxi srj ucy yuc euswuns jpox\n",
    "tajlnn ivuecv fdfce rakjq bfuxirh eibde tajnln nlajtn\n",
    "ndvm mlnhy bfqlzn nmdv ohto\n",
    "jysyvwy xbcyt lbbm osoye swwtwa emfznci qnzc qsgk\n",
    "xcm jbqsuo xmc mtrk bojuqs\n",
    "ukshrrh xhfl ooxgq vadlcrg ydva hugplg mnqbd wkyouq\n",
    "mnmqys bhws megar krgoke modxe krgoke clovh dlo\n",
    "ejl qzc agxph jcn zcq zqc\n",
    "jgh yhh hjg jhg\n",
    "tarm jboyg gbyjo pgalg xugzt bph mart\n",
    "yur wrrahr fnnfqu rwhrar cdq\n",
    "mukod gueg guge epalg xjkctt\n",
    "hub hbu hbzul buh sqfl\n",
    "xyrly lvpitr xfzn jjcl uvcnz dnpdyzq ifaiwe zlvzcx\n",
    "wxzsf tgd khvwp cmd mzv bsvjvjm wvhpk ublnqyz mvbjvjs peishcb\n",
    "zunmk hxpney nphxey znmku\n",
    "bfxlgur wftcw xfkf fsik xkff ffxk\n",
    "sxyjzr ugcscx uiovqx ldzhord xgxbfph ldzhord prdhg rhdhzd ugcscx\n",
    "udg drb apyjq dgyevo fuxjhg\n",
    "qshbe aigfdp wyvz xfcos wve dgfrufw dwimmb jfh wfrjbzk nwgrigr sbrpbb\n",
    "ahpn xnzeof wxbv chxpcu jmso age ojsm bqonfki hqhrkw\n",
    "mfupm vvig ndqbbm jlw\n",
    "ejqh ebcrytj zpiqtpp ogznd\n",
    "wkwkae odq rsrnqk nslczz hiyyhur kuw mjbuwll vduvod ryhuhiy swo tsos\n",
    "znkufyx jejrdno knr wkx ikrlly tnxtj\n",
    "iizdiw iizdiw hukep rwj eaq ptm klta rwj onaz\n",
    "znb egqy qqnc igqr ikza ojgzkr xaen kurb pyckxvt wqx\n",
    "pbohpw bphowp dajwdpp kotevs\n",
    "hmuvxu zdnguk jhcmj gccyxiu cxgiycu uyxcgic akxi demeff\n",
    "zjr lupzwcy puva rzj\n",
    "cdn wee iqkbhl jwxo nhl cqd mqgqf ltdfg\n",
    "phwco ggcj cggj ergpqmc kcz\n",
    "aryjl wqwmkc aklktpz kptnroc mckqww\n",
    "jadydt atjdyd tajdyd owswsgm\n",
    "dshqt kacoge sdqth ylobih\n",
    "kdnik knkdi dinkk xwvqa gvii\n",
    "cifbkpt zye xhwnrhm fctibpk sbn pdqry emkye kzyjpa plzkc btkfcip gcchi\n",
    "kekfr fufp dfy eqebgko obbn nuh\n",
    "zixfbus skuf bea gimbqq caubhto eba uvkovz xisfzub peukmyn\n",
    "okihcgh gazrc slee vlnwyg geviex eesl nmnvk rcbv ycupyw\n",
    "tcvlgqs wxe lusvwzy unr yzluwvs wsylvzu zkwth qdykv\n",
    "hyenkj ugao vlwgb putcepr lyeccs fqdotx burf aqew fje rfbu\n",
    "uhmnc zgnkarz gylqawm abl zimcz qbs zzmic\n",
    "pxkbpn zuxlwtt rlbhegv zlxuwtt ooxpr pgjx\n",
    "leg wavgps fcplfpc xvxih ueskmi dvu wbiq nvtia pwjojw usiemk ojwwjp\n",
    "zmrpknx xrfpq avque tvoyqp\n",
    "lyposyj mckyoub sqbl olpsjyy hjafzi wmojb nvezofd\n",
    "yflxrg egi aij qvc yflxrg typbs yflxrg kliexy eqnj jqrr\n",
    "gggt sht kdajvz sht gkqwaot sht vout\n",
    "ahl aucpih feig man umtchcv ceqabr tfptb\n",
    "ftlywun voaorf kde ilwt hlpoe pksqxyh vpg cxo xgq fdkkl sgxhnq\n",
    "zzekhfi akb lupta sgtd qapznzf lgidsx lidsgx akgmq ettuwjq xyumf\n",
    "dxhpku lwoxpim gwb lhjmoh gxqapd ntmvc rvwwszg pvin lwoxpim coubc\n",
    "qia bxmremo rjf vaeio eqexwz wuoz sguf bsbusof xqeewz\n",
    "iczzz krf hbq tsgrih mzjabrt sfnwrm djignf zwac cwaz dgc nsrfmw\n",
    "yvarsva zzpbp yai und kkbinr zlyj nyxxof ggrgu vyk eib\n",
    "nepzm yrrgr vrlhbv hykmiog natrqx jvpq nbyhe zuo grx nwl\n",
    "cfboeev hcn yfobyx cqvlo obctww xxaux ofybxy wouguq avuztl xmgqq xyofby\n",
    "tikv uvzp oxopqy reh uzvp wefka vli kied gngks vbz thfsxyt\n",
    "exxvknp pucbdyl dboto tzat qze xyinygz mhzl ubahr ekxbtk\n",
    "jcz ufszbi pknsfgb ivok ijau okxolj etecn aurun zsa gbxs uryx\n",
    "ypnb ousd osg mvset ipffzdn dfinfpz ltescx\n",
    "taeoct aoetct aocett ttda fcdqnxv\n",
    "bimtlk ssax bmrifkr vfxdmq hglp rgzr zpvk zhxtq rndwy mmr arkr\n",
    "bwvdb axxbhzk nwfmbbu kzuc sahv cvas wdac acsv\n",
    "xavkwou yvx ouwkxva otbe uzr mmw atq yiy ghavd qta pqlhv\n",
    "omzht vsdsc zhtmo hmotz\n",
    "eqt wtveez syift shtfnc hmckjxa apwbvn yme okdl hbihdtv hxahns eetvwz\n",
    "rokdg ndjw hprxjc viys mbcctod dbvd\n",
    "lhzb fyxf xaslmi sjd vqp grxhmfe snetfv mgivd uaknj givkdi\n",
    "gxkxl kqcdnl rna jhcuepd npiedg djcpheu huce njryw bjluhq bvedvl kqxu\n",
    "sogh uym atpzuwx vjgbe xgrvkg thgbyn mptcebt rkro\n",
    "tnpxw uxrqxd lajmsmr tnnlt vrvbf deret hkmvrs eubvkn kks hjq\n",
    "rcdoa zfja vod supip dvo\n",
    "zbxdo xglqv how mgoq jqrdou pwrminc lidi nfs xglqv lidi\n",
    "ldmnp dnqn ahhr tha mvsbsfh rpm rgus faf tjash\n",
    "ewrdol jqhfpf rckj mrxlwj redjg bmxprx grla\n",
    "rhr jksebwa vtu skwaejb vut\n",
    "wrx iqvrjh atrt xrw vtqo tkcasd xedjh zkqrh vvhj\n",
    "owc qlzygar uajwwe obzl inxawur\n",
    "crbtrf phvy nzipo rctbfr trrcbf\n",
    "vwuun wcfhhzo vxxjdt fbf bqtmmhs bffqcna\n",
    "wkxfxmv zmrkyh sggw whwcw zukynw\n",
    "lsdiy lnbn kblxi qfyib irfl mymrr zqbl\n",
    "gwdkeu ghn afry zxoz fary uzntlnk kee xtnop ptnox zngoran\n",
    "lgs lsg sgeseiz gsl\n",
    "erpoqpi svtnv vsogl uym amzxbs\n",
    "jtmodqx yjcsfcl zosugm jrekfdw xxbdqnx fcha\n",
    "vio tlfxokx xaoq pydeiq glxsuzm honifvf maiuzsy uizsyam eco\n",
    "ophcui saka qyt ltti syw\n",
    "qff qff sde ryv\n",
    "eiii jazx nlehtx tnhvxl rzvsjo qkupif feypppe tefxr wdjmlc\n",
    "pdrr mwuy wccd rxla drpr enbbap\n",
    "pclml ubwdbz hfudj gdpujfm ovabv\n",
    "uink ffebi wdvhqzs qiympf lqxihty vnsp wdvhqzs hutxkcs lxfuos hutxkcs\n",
    "fycoaw palkpz yrkg kappzl ncjym mergg kryg\n",
    "eqy npvgh ghafkro piqnogb polacs qye hnvpg\n",
    "dxyy udhmz jij tqsuic qxz erctv\n",
    "urum nmbr cgek eetmhj gxr oxgukf wzdmvi oibzt fxkoug rcrywcr rglx\n",
    "jkp ofej waibl opqhmww ifnczcg jdtkbc lil isc ill mylvuv\n",
    "vqbcosk yhhsy gasmj bspx peakt cjtekw hvzo ywe qcvbosk ohzv qddt\n",
    "edq llbvsx vedyvlm gou wkecank rkgf ziyrr belgo tbz\n",
    "wbome vhzf ztk zaxiu ywjb supuf beq sxq spuuf pufus\n",
    "femu ymkdoew kjynct aia\n",
    "yjymr orovqj aremii licw bdtnc\n",
    "uyade fbx duaye ujtvpn\n",
    "yzvp pvzgjp yofcvya gvkkoh cafyvoy mhsm okhkvg\n",
    "xuh qkaf dmi imd tzmlce mqkxj qilrc dim cadotvy\n",
    "azpqgb kyc aflgyaf laagffy kesmk jzyzaer taf bpkbzdg\n",
    "ogd dbdlh dqt zaaloh\n",
    "exal vgnfx omu omepvwf szcwq snz bptite bzqyxl khmblyc sse emg\n",
    "yqcbwsn aihhf tqck tcqk wqwqy cfez xahpn\n",
    "qqbuf lil ies tqu pyxhqp mnfuk azj\n",
    "vwma rzdtgl mxbasw nwgjav mwav\n",
    "itpjfq rrgyt hralwm fqrig btwcod\n",
    "ydjd kmk fvwr wrfv yvhw mkk\n",
    "xbsxub yhsj xzbuf ace xubbsx fzuxb vxk\n",
    "ttsist vubpf mhwkmtx vlj hdsva kmmhtwx ukxr upfvb tbma fxsrnxl hzwufho\n",
    "wckjvz unmtev egxts ihw topvw ptowv rnihhmq\n",
    "gpdtl kcric nwg ssbs qah aarp ydsdty ngw\n",
    "lzhxbbq oktvcw xbasqe owtmwgp koa gumjie sodwrp hqsw aqh dtgsbb\n",
    "xjbyy mxfxa ogvk nqiy qyni ldqwryj niyq jjixc\n",
    "uhbul daccgva xtiz dim uhbul yjmakv yjmakv\n",
    "huo esajup ouj oju ujo\n",
    "eeeu hwvsk jfkmds okhi pogskfm itdlbll\n",
    "lpyubo dylpfb iehwug decj ntidy cuygyg lalkb iutu oxgm imn\"\"\""
   ]
  },
  {
   "cell_type": "code",
   "execution_count": 3,
   "metadata": {
    "ExecuteTime": {
     "end_time": "2018-04-09T23:18:33.339828Z",
     "start_time": "2018-04-09T23:18:33.322451Z"
    },
    "hidden": true
   },
   "outputs": [
    {
     "name": "stdout",
     "output_type": "stream",
     "text": [
      "477\n"
     ]
    }
   ],
   "source": [
    "# create empty list to append valid phrases to\n",
    "validPhrases = []\n",
    "# get phrases: split puzzleInput by row\n",
    "for row in puzzleInput.splitlines():\n",
    "    # get words: split every row in puzzleInput by spaces\n",
    "    row = re.split(r'\\s+', row)\n",
    "    # get length of row with duplicates\n",
    "    lengthRow = len(row)\n",
    "    # get length of list without duplicates\n",
    "    noDuplicates = len(set(row))\n",
    "    # if length row is same as length row without duplicates...\n",
    "    if lengthRow == noDuplicates:\n",
    "        # append row to validPhrases, else pass\n",
    "        validPhrases.append(row)\n",
    "    else:\n",
    "        pass\n",
    "\n",
    "# print length of validPhrases\n",
    "print(len(validPhrases))"
   ]
  },
  {
   "cell_type": "markdown",
   "metadata": {
    "hidden": true
   },
   "source": [
    "## Part 2"
   ]
  },
  {
   "cell_type": "markdown",
   "metadata": {
    "hidden": true
   },
   "source": [
    "> For added security, yet another system policy has been put in place. Now, a valid passphrase must contain no two words that are anagrams of each other - that is, a passphrase is invalid if any word's letters can be rearranged to form any other word in the passphrase.\n",
    "\n",
    "> For example:\n",
    "\n",
    "> abcde fghij is a valid passphrase.  \n",
    "abcde xyz ecdab is not valid - the letters from the third word can be rearranged to form the first word.  \n",
    "a ab abc abd abf abj is a valid passphrase, because all letters need to be used when forming another word.  \n",
    "iiii oiii ooii oooi oooo is valid.  \n",
    "oiii ioii iioi iiio is not valid - any of these words can be rearranged to form any other word.  \n",
    "Under this new system policy, how many passphrases are valid?  "
   ]
  },
  {
   "cell_type": "code",
   "execution_count": 4,
   "metadata": {
    "ExecuteTime": {
     "end_time": "2018-04-09T23:18:36.452057Z",
     "start_time": "2018-04-09T23:18:36.429761Z"
    },
    "hidden": true
   },
   "outputs": [
    {
     "name": "stdout",
     "output_type": "stream",
     "text": [
      "3631\n"
     ]
    }
   ],
   "source": [
    "# create empty list to append valid phrases to\n",
    "validPhrases = []\n",
    "# get phrases: split puzzleInput by row\n",
    "for row in puzzleInput.splitlines():\n",
    "    # get words: split every row in puzzleInput by spaces\n",
    "    row = re.split(r'\\s+', row)\n",
    "    for word in row:\n",
    "        word = sorted(word)\n",
    "        # get length of row with duplicates\n",
    "        lengthRow = len(row)\n",
    "        # get length of list without duplicates\n",
    "        noDuplicates = len(set(row))\n",
    "        # if length row is same as length row without duplicates...\n",
    "        if lengthRow == noDuplicates:\n",
    "            # append row to validPhrases, else pass\n",
    "            validPhrases.append(row)\n",
    "        else:\n",
    "            pass\n",
    "print(len(validPhrases))"
   ]
  },
  {
   "cell_type": "markdown",
   "metadata": {
    "collapsed": true,
    "heading_collapsed": true
   },
   "source": [
    "# Day 05 - A Maze of Twisty Trampolines, All Alike [To Do]"
   ]
  },
  {
   "cell_type": "markdown",
   "metadata": {
    "hidden": true
   },
   "source": [
    "## Part 1"
   ]
  },
  {
   "cell_type": "markdown",
   "metadata": {
    "hidden": true
   },
   "source": [
    "[Puzzle description](https://adventofcode.com/2017/day/5)"
   ]
  },
  {
   "cell_type": "markdown",
   "metadata": {
    "hidden": true
   },
   "source": [
    "> The message includes a list of the offsets for each jump. Jumps are relative: -1 moves to the previous instruction, and 2 skips the next one. Start at the first instruction in the list. The goal is to follow the jumps until one leads outside the list.\n",
    "\n",
    "> In addition, these instructions are a little strange; after each jump, the offset of that instruction increases by 1. So, if you come across an offset of 3, you would move three instructions forward, but change it to a 4 for the next time it is encountered.\n",
    "\n",
    "> For example, consider the following list of jump offsets:\n",
    "\n",
    "> 0\n",
    "3\n",
    "0\n",
    "1\n",
    "-3\n",
    "Positive jumps (\"forward\") move downward; negative jumps move upward. For legibility in this example, these offset values will be written all on one line, with the current instruction marked in parentheses. The following steps would be taken before an exit is found:\n",
    "\n",
    "> (0) 3  0  1  -3  - before we have taken any steps.\n",
    "(1) 3  0  1  -3  - jump with offset 0 (that is, don't jump at all). Fortunately, the instruction is then incremented to 1.\n",
    " 2 (3) 0  1  -3  - step forward because of the instruction we just modified. The first instruction is incremented again, now to 2.\n",
    " 2  4  0  1 (-3) - jump all the way to the end; leave a 4 behind.\n",
    " 2 (4) 0  1  -2  - go back to where we just were; increment -3 to -2.\n",
    " 2  5  0  1  -2  - jump 4 steps forward, escaping the maze.\n",
    "In this example, the exit is reached in 5 steps.\n",
    "\n",
    "> How many steps does it take to reach the exit?"
   ]
  },
  {
   "cell_type": "code",
   "execution_count": null,
   "metadata": {
    "collapsed": true,
    "hidden": true
   },
   "outputs": [],
   "source": []
  }
 ],
 "metadata": {
  "kernelspec": {
   "display_name": "Python 3",
   "language": "python",
   "name": "python3"
  },
  "language_info": {
   "codemirror_mode": {
    "name": "ipython",
    "version": 3
   },
   "file_extension": ".py",
   "mimetype": "text/x-python",
   "name": "python",
   "nbconvert_exporter": "python",
   "pygments_lexer": "ipython3",
   "version": "3.6.2"
  }
 },
 "nbformat": 4,
 "nbformat_minor": 2
}
