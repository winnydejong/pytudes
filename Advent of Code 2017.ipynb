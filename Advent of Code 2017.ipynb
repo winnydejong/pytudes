{
 "cells": [
  {
   "cell_type": "markdown",
   "metadata": {},
   "source": [
    "# Advent of Code 2017"
   ]
  },
  {
   "cell_type": "markdown",
   "metadata": {},
   "source": [
    "Winny de Jong"
   ]
  },
  {
   "cell_type": "markdown",
   "metadata": {},
   "source": [
    "In order to become a better programmer, I'm making the Advent of Code 2017 in Spring 2018. For future reference, I've included a link to the puzzle description, and import needed libraries separately for each day. \n",
    "\n",
    "When visiting the puzzle, it only shows you part one. You're supposed to solve that first, before moving on to part two. Below I'll add my solutions for part one and two. "
   ]
  },
  {
   "cell_type": "markdown",
   "metadata": {
    "heading_collapsed": true
   },
   "source": [
    "# Day 01 - Inverse Captcha"
   ]
  },
  {
   "cell_type": "markdown",
   "metadata": {
    "hidden": true
   },
   "source": [
    "## Part 1"
   ]
  },
  {
   "cell_type": "markdown",
   "metadata": {
    "hidden": true
   },
   "source": [
    "[Puzzle description](https://adventofcode.com/2017/day/1)"
   ]
  },
  {
   "cell_type": "markdown",
   "metadata": {
    "hidden": true
   },
   "source": [
    "> Review a sequence of digits (your puzzle input) and find the sum of all digits that match the next digit in the list. The list is circular, so the digit after the last digit is the first digit in the list.\n",
    "\n",
    "> For example:\n",
    "\n",
    "> 1122 produces a sum of 3 (1 + 2) because the first digit (1) matches the second digit and the third digit (2) matches the fourth digit.\n",
    "1111 produces 4 because each digit (all 1) matches the next.\n",
    "1234 produces 0 because no digit matches the next.\n",
    "> 91212129 produces 9 because the only digit that matches the next one is the last digit, 9."
   ]
  },
  {
   "cell_type": "code",
   "execution_count": 1,
   "metadata": {
    "ExecuteTime": {
     "end_time": "2018-04-08T01:20:58.565186Z",
     "start_time": "2018-04-08T01:20:58.558366Z"
    },
    "collapsed": true,
    "hidden": true
   },
   "outputs": [],
   "source": [
    "testInput1 = 1122\n",
    "testInput2 = 1111\n",
    "testInput3 = 1234\n",
    "testInput4 = 1234\n",
    "testInput5 = 91212129\n",
    "\n",
    "puzzleInput = 428122498997587283996116951397957933569136949848379417125362532269869461185743113733992331379856446362482129646556286611543756564275715359874924898113424472782974789464348626278532936228881786273586278886575828239366794429223317476722337424399239986153675275924113322561873814364451339186918813451685263192891627186769818128715595715444565444581514677521874935942913547121751851631373316122491471564697731298951989511917272684335463436218283261962158671266625299188764589814518793576375629163896349665312991285776595142146261792244475721782941364787968924537841698538288459355159783985638187254653851864874544584878999193242641611859756728634623853475638478923744471563845635468173824196684361934269459459124269196811512927442662761563824323621758785866391424778683599179447845595931928589255935953295111937431266815352781399967295389339626178664148415561175386725992469782888757942558362117938629369129439717427474416851628121191639355646394276451847131182652486561415942815818785884559193483878139351841633366398788657844396925423217662517356486193821341454889283266691224778723833397914224396722559593959125317175899594685524852419495793389481831354787287452367145661829287518771631939314683137722493531318181315216342994141683484111969476952946378314883421677952397588613562958741328987734565492378977396431481215983656814486518865642645612413945129485464979535991675776338786758997128124651311153182816188924935186361813797251997643992686294724699281969473142721116432968216434977684138184481963845141486793996476793954226225885432422654394439882842163295458549755137247614338991879966665925466545111899714943716571113326479432925939227996799951279485722836754457737668191845914566732285928453781818792236447816127492445993945894435692799839217467253986218213131249786833333936332257795191937942688668182629489191693154184177398186462481316834678733713614889439352976144726162214648922159719979143735815478633912633185334529484779322818611438194522292278787653763328944421516569181178517915745625295158611636365253948455727653672922299582352766484"
   ]
  },
  {
   "cell_type": "code",
   "execution_count": 2,
   "metadata": {
    "ExecuteTime": {
     "end_time": "2018-04-08T01:20:58.582065Z",
     "start_time": "2018-04-08T01:20:58.567259Z"
    },
    "hidden": true
   },
   "outputs": [
    {
     "data": {
      "text/plain": [
       "1034"
      ]
     },
     "execution_count": 2,
     "metadata": {},
     "output_type": "execute_result"
    }
   ],
   "source": [
    "# make string of puzzleInput, otherwise creating a tuple is not possible\n",
    "string = str(puzzleInput)\n",
    "\n",
    "# create tuple of all digits in puzzleInput\n",
    "puzzleTuple = tuple(string)\n",
    "\n",
    "# get lenght of puzzleTuple\n",
    "length = len(puzzleTuple)\n",
    "\n",
    "# sum ints from puzzleTuple,\n",
    "sum(int(puzzleTuple[i])\n",
    "    # if i in range of the length of puzzleTuple\n",
    "    for i in range(length)\n",
    "        # matches the former digit in the list\n",
    "        if puzzleTuple[i] == puzzleTuple[i - 1])"
   ]
  },
  {
   "cell_type": "markdown",
   "metadata": {
    "hidden": true
   },
   "source": [
    "## Part 2"
   ]
  },
  {
   "cell_type": "markdown",
   "metadata": {
    "hidden": true
   },
   "source": [
    "> Instead of considering the next digit, it wants you to consider the digit halfway around the circular list. That is, if your list contains 10 items, only include a digit in your sum if the digit 10/2 = 5 steps forward matches it. Fortunately, your list has an even number of elements.\n",
    "\n",
    "> For example:\n",
    "\n",
    "> 1212 produces 6: the list contains 4 items, and all four digits match the digit 2 items ahead.\n",
    "> 1221 produces 0, because every comparison is between a 1 and a 2.\n",
    "> 123425 produces 4, because both 2s match each other, but no other digit has a match.\n",
    "> 123123 produces 12.\n",
    "> 12131415 produces 4."
   ]
  },
  {
   "cell_type": "code",
   "execution_count": 3,
   "metadata": {
    "ExecuteTime": {
     "end_time": "2018-04-08T01:20:58.591519Z",
     "start_time": "2018-04-08T01:20:58.584166Z"
    },
    "collapsed": true,
    "hidden": true
   },
   "outputs": [],
   "source": [
    "testInput1 = 1212\n",
    "testInput2 = 1221\n",
    "testInput3 = 123425\n",
    "testInput4 = 123123\n",
    "testInput5 = 12131415\n",
    "\n",
    "puzzleInput = 428122498997587283996116951397957933569136949848379417125362532269869461185743113733992331379856446362482129646556286611543756564275715359874924898113424472782974789464348626278532936228881786273586278886575828239366794429223317476722337424399239986153675275924113322561873814364451339186918813451685263192891627186769818128715595715444565444581514677521874935942913547121751851631373316122491471564697731298951989511917272684335463436218283261962158671266625299188764589814518793576375629163896349665312991285776595142146261792244475721782941364787968924537841698538288459355159783985638187254653851864874544584878999193242641611859756728634623853475638478923744471563845635468173824196684361934269459459124269196811512927442662761563824323621758785866391424778683599179447845595931928589255935953295111937431266815352781399967295389339626178664148415561175386725992469782888757942558362117938629369129439717427474416851628121191639355646394276451847131182652486561415942815818785884559193483878139351841633366398788657844396925423217662517356486193821341454889283266691224778723833397914224396722559593959125317175899594685524852419495793389481831354787287452367145661829287518771631939314683137722493531318181315216342994141683484111969476952946378314883421677952397588613562958741328987734565492378977396431481215983656814486518865642645612413945129485464979535991675776338786758997128124651311153182816188924935186361813797251997643992686294724699281969473142721116432968216434977684138184481963845141486793996476793954226225885432422654394439882842163295458549755137247614338991879966665925466545111899714943716571113326479432925939227996799951279485722836754457737668191845914566732285928453781818792236447816127492445993945894435692799839217467253986218213131249786833333936332257795191937942688668182629489191693154184177398186462481316834678733713614889439352976144726162214648922159719979143735815478633912633185334529484779322818611438194522292278787653763328944421516569181178517915745625295158611636365253948455727653672922299582352766484"
   ]
  },
  {
   "cell_type": "code",
   "execution_count": 4,
   "metadata": {
    "ExecuteTime": {
     "end_time": "2018-04-08T01:20:58.604074Z",
     "start_time": "2018-04-08T01:20:58.593746Z"
    },
    "hidden": true
   },
   "outputs": [
    {
     "data": {
      "text/plain": [
       "1356"
      ]
     },
     "execution_count": 4,
     "metadata": {},
     "output_type": "execute_result"
    }
   ],
   "source": [
    "# make string of puzzleInput, otherwise creating a tuple is not possible\n",
    "string = str(puzzleInput)\n",
    "\n",
    "# create tuple of all digits in puzzleInput\n",
    "puzzleTuple = tuple(string)\n",
    "\n",
    "# get half of lenght of puzzleTuple\n",
    "length = len(puzzleTuple)\n",
    "half = int(length)/2\n",
    "\n",
    "# sum ints from puzzleTuple,\n",
    "sum(int(puzzleTuple[i])\n",
    "    # if i in range of the length of puzzleTuple\n",
    "    for i in range(length)\n",
    "        # matches the digit halfway back in the list\n",
    "        if puzzleTuple[i] == puzzleTuple[i - int(half)])"
   ]
  },
  {
   "cell_type": "markdown",
   "metadata": {},
   "source": [
    "# Day 02 - Corruption Checksum"
   ]
  },
  {
   "cell_type": "markdown",
   "metadata": {},
   "source": [
    "## Part 1"
   ]
  },
  {
   "cell_type": "markdown",
   "metadata": {},
   "source": [
    "[Puzzle description]()"
   ]
  },
  {
   "cell_type": "markdown",
   "metadata": {},
   "source": [
    "> For each row, determine the difference between the largest value and the smallest value; the checksum is the sum of all of these differences.\n",
    "\n",
    "> For example, given the following spreadsheet:\n",
    "\n",
    "> 5 1 9 5  \n",
    "> 7 5 3  \n",
    "2 4 6 8  \n",
    "The first row's largest and smallest values are 9 and 1, and their difference is 8.\n",
    "The second row's largest and smallest values are 7 and 3, and their difference is 4.\n",
    "The third row's difference is 6.\n",
    "In this example, the spreadsheet's checksum would be 8 + 4 + 6 = 18.\n",
    "\n",
    "> What is the checksum for the spreadsheet in your puzzle input?"
   ]
  },
  {
   "cell_type": "code",
   "execution_count": 5,
   "metadata": {
    "ExecuteTime": {
     "end_time": "2018-04-08T01:20:58.613093Z",
     "start_time": "2018-04-08T01:20:58.610101Z"
    },
    "collapsed": true
   },
   "outputs": [],
   "source": [
    "import re"
   ]
  },
  {
   "cell_type": "code",
   "execution_count": 6,
   "metadata": {
    "ExecuteTime": {
     "end_time": "2018-04-08T01:20:58.620126Z",
     "start_time": "2018-04-08T01:20:58.614937Z"
    },
    "collapsed": true
   },
   "outputs": [],
   "source": [
    "puzzleInput = '''157\t564\t120\t495\t194\t520\t510\t618\t244\t443\t471\t473\t612\t149\t506\t138\n",
    "1469\t670\t47\t604\t1500\t238\t1304\t1426\t54\t749\t1218\t1409\t60\t51\t1436\t598\n",
    "578\t184\t2760\t3057\t994\t167\t2149\t191\t2913\t2404\t213\t1025\t1815\t588\t2421\t3138\n",
    "935\t850\t726\t155\t178\t170\t275\t791\t1028\t75\t781\t138\t176\t621\t773\t688\n",
    "212\t977\t297\t645\t229\t194\t207\t640\t804\t509\t833\t726\t197\t825\t242\t743\n",
    "131\t43\t324\t319\t64\t376\t231\t146\t382\t162\t464\t314\t178\t353\t123\t446\n",
    "551\t121\t127\t155\t1197\t288\t1412\t1285\t557\t137\t145\t1651\t1549\t1217\t681\t1649\n",
    "1723\t1789\t5525\t4890\t3368\t188\t3369\t4842\t3259\t2502\t4825\t163\t146\t2941\t126\t5594\n",
    "311\t2420\t185\t211\t2659\t2568\t2461\t231\t2599\t1369\t821\t506\t2227\t180\t220\t1372\n",
    "197\t4490\t141\t249\t3615\t3314\t789\t4407\t169\t352\t4383\t5070\t5173\t3115\t132\t3513\n",
    "4228\t2875\t3717\t504\t114\t2679\t165\t3568\t3002\t116\t756\t151\t4027\t261\t4813\t2760\n",
    "651\t3194\t2975\t2591\t1019\t835\t3007\t248\t3028\t1382\t282\t3242\t296\t270\t3224\t3304\n",
    "1858\t1650\t1720\t1848\t95\t313\t500\t1776\t207\t1186\t72\t259\t281\t1620\t79\t77\n",
    "3841\t3217\t440\t3481\t3643\t940\t3794\t4536\t1994\t4040\t3527\t202\t193\t1961\t230\t217\n",
    "2837\t2747\t2856\t426\t72\t78\t2361\t96\t2784\t2780\t98\t2041\t2444\t1267\t2167\t2480\n",
    "411\t178\t4263\t4690\t3653\t162\t3201\t4702\t3129\t2685\t3716\t147\t3790\t4888\t79\t165'''\n",
    "\n",
    "\n",
    "testInput = '''5\t1\t9\t5\n",
    "7\t5\t3\n",
    "2\t4\t6\t8'''"
   ]
  },
  {
   "cell_type": "code",
   "execution_count": 7,
   "metadata": {
    "ExecuteTime": {
     "end_time": "2018-04-08T01:20:58.646487Z",
     "start_time": "2018-04-08T01:20:58.627555Z"
    }
   },
   "outputs": [
    {
     "data": {
      "text/plain": [
       "43074"
      ]
     },
     "execution_count": 7,
     "metadata": {},
     "output_type": "execute_result"
    }
   ],
   "source": [
    "listChecksum = []\n",
    "\n",
    "# split input into lines by newline delimiter\n",
    "for row in puzzleInput.splitlines(): \n",
    "    # seperate different numbers within line by space/tab, save as row\n",
    "    row = re.split(r'\\s+|\\t+', row)\n",
    "    # convert numbers in row from string to integer\n",
    "    row = [int(i) for i in row]\n",
    "    large = max(row)\n",
    "    small = min(row)\n",
    "    checksum = large - small\n",
    "    listChecksum.append(checksum)\n",
    "\n",
    "sum(listChecksum)"
   ]
  },
  {
   "cell_type": "markdown",
   "metadata": {},
   "source": [
    "## Part 2"
   ]
  },
  {
   "cell_type": "markdown",
   "metadata": {},
   "source": [
    "> Find the only two numbers in each row where one evenly divides the other - that is, where the result of the division operation is a whole number. They would like you to find those numbers on each line, divide them, and add up each line's result.\n",
    "\n",
    "> For example, given the following spreadsheet:\n",
    "\n",
    "> 5 9 2 8  \n",
    "9 4 7 3  \n",
    "3 8 6 5  \n",
    "In the first row, the only two numbers that evenly divide are 8 and 2; the result of this division is 4.\n",
    "In the second row, the two numbers are 9 and 3; the result is 3.\n",
    "In the third row, the result is 2.\n",
    "In this example, the sum of the results would be 4 + 3 + 2 = 9.\n",
    "\n",
    "> What is the sum of each row's result in your puzzle input?"
   ]
  },
  {
   "cell_type": "code",
   "execution_count": 8,
   "metadata": {
    "ExecuteTime": {
     "end_time": "2018-04-08T01:20:58.651515Z",
     "start_time": "2018-04-08T01:20:58.648535Z"
    },
    "collapsed": true
   },
   "outputs": [],
   "source": [
    "testInput = '''5 9 2 8\n",
    "9 4 7 3\n",
    "3 8 6 5'''"
   ]
  },
  {
   "cell_type": "code",
   "execution_count": 9,
   "metadata": {
    "ExecuteTime": {
     "end_time": "2018-04-08T01:20:58.681742Z",
     "start_time": "2018-04-08T01:20:58.654759Z"
    }
   },
   "outputs": [
    {
     "data": {
      "text/plain": [
       "280"
      ]
     },
     "execution_count": 9,
     "metadata": {},
     "output_type": "execute_result"
    }
   ],
   "source": [
    "sumRows = []\n",
    "\n",
    "# split input into lines by newline delimiter\n",
    "for row in puzzleInput.splitlines(): \n",
    "    # seperate different numbers within line by space/tab, save as row\n",
    "    row = re.split(r'\\s+|\\t+', row)\n",
    "    # convert numbers in row from string to integer\n",
    "    row = [int(i) for i in row]\n",
    "    # get bigger number in row\n",
    "    for big in row:\n",
    "        # get smaller number in row\n",
    "        for small in row:\n",
    "            # devide bigger number by smaller number, if outcome is 0 \n",
    "            # and the bigger number does not match the smaller number...\n",
    "            if big % small == 0 and big != small:\n",
    "                # if the bigger number is really bigger than smaller\n",
    "                if(big < small):\n",
    "                    # divide small by big\n",
    "                    sumRows.append(small/big)\n",
    "                else:\n",
    "                    # else divide big by small\n",
    "                    sumRows.append(big/small)\n",
    "\n",
    "int(sum(sumRows))"
   ]
  },
  {
   "cell_type": "markdown",
   "metadata": {},
   "source": [
    "# Day 03 - Spiral Memory"
   ]
  },
  {
   "cell_type": "markdown",
   "metadata": {},
   "source": [
    "[Puzzle description](https://adventofcode.com/2017/day/3)"
   ]
  },
  {
   "cell_type": "markdown",
   "metadata": {
    "ExecuteTime": {
     "end_time": "2018-04-08T01:16:54.112657Z",
     "start_time": "2018-04-08T01:16:54.107178Z"
    }
   },
   "source": [
    "> "
   ]
  },
  {
   "cell_type": "markdown",
   "metadata": {},
   "source": [
    "## Part 1"
   ]
  },
  {
   "cell_type": "code",
   "execution_count": null,
   "metadata": {
    "collapsed": true
   },
   "outputs": [],
   "source": []
  },
  {
   "cell_type": "code",
   "execution_count": null,
   "metadata": {
    "collapsed": true
   },
   "outputs": [],
   "source": []
  },
  {
   "cell_type": "code",
   "execution_count": null,
   "metadata": {
    "collapsed": true
   },
   "outputs": [],
   "source": []
  },
  {
   "cell_type": "code",
   "execution_count": null,
   "metadata": {
    "collapsed": true
   },
   "outputs": [],
   "source": []
  }
 ],
 "metadata": {
  "kernelspec": {
   "display_name": "Python 3",
   "language": "python",
   "name": "python3"
  },
  "language_info": {
   "codemirror_mode": {
    "name": "ipython",
    "version": 3
   },
   "file_extension": ".py",
   "mimetype": "text/x-python",
   "name": "python",
   "nbconvert_exporter": "python",
   "pygments_lexer": "ipython3",
   "version": "3.6.2"
  }
 },
 "nbformat": 4,
 "nbformat_minor": 2
}
